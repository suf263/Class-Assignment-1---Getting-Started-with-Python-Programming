{
  "nbformat": 4,
  "nbformat_minor": 0,
  "metadata": {
    "colab": {
      "name": "DISCUSSION 6",
      "provenance": [],
      "authorship_tag": "ABX9TyP4g9jUZypRPeQFPuuqkyAS",
      "include_colab_link": true
    },
    "kernelspec": {
      "name": "python3",
      "display_name": "Python 3"
    }
  },
  "cells": [
    {
      "cell_type": "markdown",
      "metadata": {
        "id": "view-in-github",
        "colab_type": "text"
      },
      "source": [
        "<a href=\"https://colab.research.google.com/github/suf263/Class-Assignment-1---Getting-Started-with-Python-Programming/blob/master/DISCUSSION_6.ipynb\" target=\"_parent\"><img src=\"https://colab.research.google.com/assets/colab-badge.svg\" alt=\"Open In Colab\"/></a>"
      ]
    },
    {
      "cell_type": "code",
      "metadata": {
        "colab": {
          "base_uri": "https://localhost:8080/"
        },
        "id": "LXWalBsYgTbT",
        "outputId": "186b0336-89cd-44ea-ecd2-b7a751383ccd"
      },
      "source": [
        "def filterFile(oldFile, newFile):\r\n",
        "  f1 = open(oldFile, \"r\")\r\n",
        "  f2 = open(newFile, \"w\")\r\n",
        "  while True:\r\n",
        "    text = f1.readline() \r\n",
        "    if text == \"\":\r\n",
        "      break\r\n",
        "    if text[0] == '#':\r\n",
        "      continue\r\n",
        "    f2.write(text)\r\n",
        "  f1.close()\r\n",
        "  f2.close()\r\n",
        "  return\r\n",
        "f = open(\"mydata.dat\",\"w\")\r\n",
        "f.write(\"First Line\\n\")\r\n",
        "f.write(\"#Second Line\\n\")\r\n",
        "f.write(\"Third Line\\n\")\r\n",
        "f.write(\"Fourth Line\\n\")\r\n",
        "f.close()\r\n",
        "\r\n",
        "filterFile(\"mydata.dat\",\"filterdata.dat\")\r\n",
        "\r\n",
        "f = open(\"mydata.dat\",\"r\")\r\n",
        "text = f.read()\r\n",
        "print(text)\r\n",
        "\r\n",
        "f = open(\"filterdata.dat\",\"r\")\r\n",
        "text = f.read()\r\n",
        "print(text)\r\n"
      ],
      "execution_count": 1,
      "outputs": [
        {
          "output_type": "stream",
          "text": [
            "First Line\n",
            "#Second Line\n",
            "Third Line\n",
            "Fourth Line\n",
            "\n",
            "First Line\n",
            "Third Line\n",
            "Fourth Line\n",
            "\n"
          ],
          "name": "stdout"
        }
      ]
    },
    {
      "cell_type": "code",
      "metadata": {
        "colab": {
          "base_uri": "https://localhost:8080/"
        },
        "id": "L0CK1lezhi1S",
        "outputId": "62476479-1fad-4486-a74d-aae66deed6f2"
      },
      "source": [
        "def grade(myfile):\r\n",
        "  f1 = open(myfile, \"r\")\r\n",
        "  total_marks=0\r\n",
        "  while True:\r\n",
        "    text = f1.readline() \r\n",
        "    if text == \"\":\r\n",
        "      break\r\n",
        "    marks = text[-3:-1]\r\n",
        "    total_marks+=int(marks)\r\n",
        "    print(marks)\r\n",
        "  print(\"Total Marks:\",total_marks)  \r\n",
        "  print(\"Percentage:\",total_marks/400*100)\r\n",
        "  \r\n",
        "f = open(\"mygrade.dat\",\"w\")\r\n",
        "f.write(\"Physics\\t 80\\n\")\r\n",
        "f.write(\"Chem\\t 70\\n\")\r\n",
        "f.write(\"Maths\\t 90\\n\")\r\n",
        "f.write(\"English\\t 90\\n\")\r\n",
        "f.close()\r\n",
        "f = open(\"mygrade.dat\",\"r\")\r\n",
        "text = f.read()\r\n",
        "print(text)\r\n",
        "grade('mygrade.dat')\r\n",
        "\r\n"
      ],
      "execution_count": 4,
      "outputs": [
        {
          "output_type": "stream",
          "text": [
            "Physics\t 80\n",
            "Chem\t 70\n",
            "Maths\t 90\n",
            "English\t 90\n",
            "\n",
            "80\n",
            "70\n",
            "90\n",
            "90\n",
            "Total Marks: 330\n",
            "Percentage: 82.5\n"
          ],
          "name": "stdout"
        }
      ]
    },
    {
      "cell_type": "code",
      "metadata": {
        "colab": {
          "base_uri": "https://localhost:8080/"
        },
        "id": "kMAUXFRLicqT",
        "outputId": "5b8dccef-ba6c-4866-be16-9b604328b40f"
      },
      "source": [
        "import string\r\n",
        "f = open(\"words1.txt\", \"w\")\r\n",
        "def lettersinline(n):\r\n",
        "       alphabet = string.ascii_uppercase\r\n",
        "       print(alphabet)\r\n",
        "       for i in range(0, len(alphabet),n):\r\n",
        "        letters = alphabet[i:i + n]\r\n",
        "        f.write(letters)\r\n",
        "        f.write(\"\\n\")\r\n",
        "lettersinline(3)\r\n",
        "f = open(\"words1.txt\",\"r\")\r\n",
        "text = f.read()\r\n",
        "print(text)\r\n"
      ],
      "execution_count": 5,
      "outputs": [
        {
          "output_type": "stream",
          "text": [
            "ABCDEFGHIJKLMNOPQRSTUVWXYZ\n",
            "ABC\n",
            "DEF\n",
            "GHI\n",
            "JKL\n",
            "MNO\n",
            "PQR\n",
            "STU\n",
            "VWX\n",
            "YZ\n",
            "\n"
          ],
          "name": "stdout"
        }
      ]
    },
    {
      "cell_type": "code",
      "metadata": {
        "colab": {
          "base_uri": "https://localhost:8080/"
        },
        "id": "Nzbf9tHnikHz",
        "outputId": "6dd48735-b661-4d7e-dbe7-8c9dfab6a5f2"
      },
      "source": [
        "def savetolist(myfile):\r\n",
        "  f1 = open(myfile, \"r\")\r\n",
        "  mylist=[]\r\n",
        "  while True:\r\n",
        "    text = f1.readline() \r\n",
        "    if text == \"\":\r\n",
        "      break\r\n",
        "    text=text[:-1] \r\n",
        "    mylist.append(text)\r\n",
        "  f1.close()\r\n",
        "  return mylist\r\n",
        "f = open(\"mydata.dat\",\"w\")\r\n",
        "f.write(\"apple\\n\")\r\n",
        "f.write(\"mango\\n\")\r\n",
        "f.write(\"orange\\n\")\r\n",
        "f.write(\"grapes\\n\")\r\n",
        "f.close()\r\n",
        "f = open(\"mydata.dat\",\"r\")\r\n",
        "text = f.read()\r\n",
        "print(text)\r\n",
        "savetolist(\"mydata.dat\")\r\n",
        "\r\n"
      ],
      "execution_count": 7,
      "outputs": [
        {
          "output_type": "stream",
          "text": [
            "apple\n",
            "mango\n",
            "orange\n",
            "grapes\n",
            "\n"
          ],
          "name": "stdout"
        },
        {
          "output_type": "execute_result",
          "data": {
            "text/plain": [
              "['apple', 'mango', 'orange', 'grapes']"
            ]
          },
          "metadata": {
            "tags": []
          },
          "execution_count": 7
        }
      ]
    }
  ]
}