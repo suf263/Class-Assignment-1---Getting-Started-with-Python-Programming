{
  "nbformat": 4,
  "nbformat_minor": 0,
  "metadata": {
    "colab": {
      "name": "Untitled6.ipynb",
      "provenance": [],
      "collapsed_sections": [],
      "authorship_tag": "ABX9TyN04HJB6groslTyIxD2s3jg",
      "include_colab_link": true
    },
    "kernelspec": {
      "name": "python3",
      "display_name": "Python 3"
    }
  },
  "cells": [
    {
      "cell_type": "markdown",
      "metadata": {
        "id": "view-in-github",
        "colab_type": "text"
      },
      "source": [
        "<a href=\"https://colab.research.google.com/github/suf263/Class-Assignment-1---Getting-Started-with-Python-Programming/blob/master/Untitled6.ipynb\" target=\"_parent\"><img src=\"https://colab.research.google.com/assets/colab-badge.svg\" alt=\"Open In Colab\"/></a>"
      ]
    },
    {
      "cell_type": "code",
      "metadata": {
        "id": "Kzt_6KetaLXA",
        "colab_type": "code",
        "colab": {}
      },
      "source": [
        "a = input(\"Enter first string:\")\n",
        "b = input(\"Enter second string:\")\n",
        "if a==b:\n",
        "  print(\"Equal\")\n",
        "elif a!=b:\n",
        "    print(\"Notequal\")"
      ],
      "execution_count": null,
      "outputs": []
    },
    {
      "cell_type": "code",
      "metadata": {
        "id": "q4rIdyh0annp",
        "colab_type": "code",
        "colab": {}
      },
      "source": [
        "a = int(input(\"Enter first number:\"))\n",
        "b = int(input(\"Enter second number:\"))\n",
        "sum=a+b\n",
        "print(\"The sum of two numbers is\",sum)"
      ],
      "execution_count": null,
      "outputs": []
    },
    {
      "cell_type": "code",
      "metadata": {
        "id": "unfGiP8Edg6j",
        "colab_type": "code",
        "colab": {}
      },
      "source": [
        "import math\n",
        "number = float(input(\"Enter the value:\"))\n",
        "squareroot = math.sqrt(number)\n",
        "print(\"The square root of the given number is\",squareroot)"
      ],
      "execution_count": null,
      "outputs": []
    },
    {
      "cell_type": "code",
      "metadata": {
        "id": "oJqdjutdcK1Q",
        "colab_type": "code",
        "colab": {}
      },
      "source": [
        "a = float(input(\"Enter first side:\"))\n",
        "b = float(input(\"Enter second side:\"))\n",
        "c = float(input(\"Enter third side:\"))\n",
        "s = (a+b+c)/2\n",
        "print(\"the value of s is\",s)\n",
        "area = (s*(s-a)*(s-b)*(s-c))**0.5\n",
        "print(\"The area of the triangle is\",area)"
      ],
      "execution_count": null,
      "outputs": []
    },
    {
      "cell_type": "code",
      "metadata": {
        "id": "FNj0taCggKLN",
        "colab_type": "code",
        "colab": {}
      },
      "source": [
        "celsius = float(input(\"Enter the temperature value in celsius:\"))\n",
        "Fahrenheit = (celsius*9/5)+32\n",
        "print(\"Temperature value in fahrenheit:\",Fahrenheit)\n",
        "\n"
      ],
      "execution_count": null,
      "outputs": []
    },
    {
      "cell_type": "code",
      "metadata": {
        "id": "ylEGxlF5hcYj",
        "colab_type": "code",
        "colab": {}
      },
      "source": [
        "number = float(input(\"Enter a number:\"))\n",
        "if number==0:\n",
        "  print(\"The given number is zero\")\n",
        "elif number>0:\n",
        "  print(\"positive number\")\n",
        "else: \n",
        "  print(\"negative number\")\n",
        "  "
      ],
      "execution_count": null,
      "outputs": []
    },
    {
      "cell_type": "code",
      "metadata": {
        "id": "o-M0EXiyilFe",
        "colab_type": "code",
        "colab": {}
      },
      "source": [
        "num1 = float(input(\"Enter first number:\"))\n",
        "num2 = float(input(\"Enter second number:\"))\n",
        "num3 = float(input(\"Enter third number:\"))\n",
        "if (num1>= num2) and (num1>= num3):\n",
        "  largest = num1\n",
        "elif (num2>= num1 ) and (num2>= num3):\n",
        "  largest = num2\n",
        "else:\n",
        "  largest =num3\n",
        "print(\"The largest number is\",largest)"
      ],
      "execution_count": null,
      "outputs": []
    },
    {
      "cell_type": "code",
      "metadata": {
        "id": "AybBH8BRieuA",
        "colab_type": "code",
        "colab": {}
      },
      "source": [
        ""
      ],
      "execution_count": null,
      "outputs": []
    }
  ]
}