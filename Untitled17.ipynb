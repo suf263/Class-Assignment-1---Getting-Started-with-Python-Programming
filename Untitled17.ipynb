{
  "nbformat": 4,
  "nbformat_minor": 0,
  "metadata": {
    "colab": {
      "name": "Untitled17.ipynb",
      "provenance": [],
      "authorship_tag": "ABX9TyMXdqtC6dNvEFhVMeNmJFYB",
      "include_colab_link": true
    },
    "kernelspec": {
      "name": "python3",
      "display_name": "Python 3"
    }
  },
  "cells": [
    {
      "cell_type": "markdown",
      "metadata": {
        "id": "view-in-github",
        "colab_type": "text"
      },
      "source": [
        "<a href=\"https://colab.research.google.com/github/suf263/Class-Assignment-1---Getting-Started-with-Python-Programming/blob/master/Untitled17.ipynb\" target=\"_parent\"><img src=\"https://colab.research.google.com/assets/colab-badge.svg\" alt=\"Open In Colab\"/></a>"
      ]
    },
    {
      "cell_type": "code",
      "metadata": {
        "id": "gPmgkFNPR-8n"
      },
      "source": [
        "#1\r\n",
        "sum=0\r\n",
        "sum1=0\r\n",
        "count=0\r\n",
        "count1=0\r\n",
        "n=int(input(\"Enter the number of elements to be in the list:\"))\r\n",
        "b=[]\r\n",
        "for i in range(0,n):\r\n",
        "    a=int(input(\"Element: \"))\r\n",
        "    b.append(a)\r\n",
        "for i in b:\r\n",
        "\tif i >0:\r\n",
        "\t\tcount=count+1\r\n",
        "\t\tsum=sum+i\r\n",
        "\t\tavg=sum/count\r\n",
        "\telse :\r\n",
        "\t\tcount1=count1+1\r\n",
        "\t\tsum1=sum1+i\r\n",
        "\t\tavg1=sum1/count1\r\n",
        "print(sum)\r\n",
        "print(avg)\r\n",
        "print(sum1)\r\n",
        "print(avg1)"
      ],
      "execution_count": null,
      "outputs": []
    },
    {
      "cell_type": "code",
      "metadata": {
        "id": "H7fdIjm2O2m8"
      },
      "source": [
        "#2\r\n",
        "string = \"characters\"\r\n",
        "all_freq = {}\r\n",
        " \r\n",
        "  \r\n",
        "for i in string: \r\n",
        "    if i in all_freq: \r\n",
        "        all_freq[i] += 1\r\n",
        "    else: \r\n",
        "        all_freq[i] = 1\r\n",
        "print (\"Count of all characters is :\\n \"+  str(all_freq))\r\n",
        "\r\n"
      ],
      "execution_count": null,
      "outputs": []
    },
    {
      "cell_type": "code",
      "metadata": {
        "id": "qbeSLkOYNhaw"
      },
      "source": [
        "#3\r\n",
        "my_list = [-12, -65, 10, 13, 23, -24, 29, 93]\r\n",
        "new_list = []\r\n",
        "\r\n",
        "while my_list:\r\n",
        "    min = my_list[0]  \r\n",
        "    for x in my_list: \r\n",
        "        if x < min:\r\n",
        "            min = x\r\n",
        "    new_list.append(min)\r\n",
        "    my_list.remove(min)    \r\n",
        "print(new_list)"
      ],
      "execution_count": null,
      "outputs": []
    },
    {
      "cell_type": "code",
      "metadata": {
        "id": "FxbpEQC8MDgZ"
      },
      "source": [
        "#4\r\n",
        "string=input(\"Enter string:\")\r\n",
        "if(string==string[::-1]):\r\n",
        "      print(\"The string is a palindrome\")\r\n",
        "else:\r\n",
        "      print(\"The string isn't a palindrome\")\r\n"
      ],
      "execution_count": null,
      "outputs": []
    },
    {
      "cell_type": "code",
      "metadata": {
        "id": "_-4DLaqbR1Dz"
      },
      "source": [
        "#5\r\n",
        "import math\r\n",
        "def sin(x,n):\r\n",
        "    sine = 0\r\n",
        "    for i in range(n):\r\n",
        "        sign = (-1)**i\r\n",
        "        pi=22/7\r\n",
        "        y=x*(pi/180)\r\n",
        "        sine = sine + ((y**(2.0*i+1))/math.factorial(2*i+1))*sign\r\n",
        "    return sine\r\n",
        "x=int(input(\"Enter the value of x in degrees:\"))\r\n",
        "n=int(input(\"Enter the number of terms:\"))\r\n",
        "print(round(sin(x,n),2))\r\n"
      ],
      "execution_count": null,
      "outputs": []
    },
    {
      "cell_type": "code",
      "metadata": {
        "id": "cBVjiGHSLEeg"
      },
      "source": [
        "#6\r\n",
        "import re\r\n",
        "p= input(\"Input your password\")\r\n",
        "x = True\r\n",
        "while x:  \r\n",
        "    if (len(p)<6 or len(p)>12):\r\n",
        "        break\r\n",
        "    elif not re.search(\"[a-z]\",p):\r\n",
        "        break\r\n",
        "    elif not re.search(\"[0-9]\",p):\r\n",
        "        break\r\n",
        "    elif not re.search(\"[A-Z]\",p):\r\n",
        "        break\r\n",
        "    elif not re.search(\"[$#@]\",p):\r\n",
        "        break\r\n",
        "    elif re.search(\"\\s\",p):\r\n",
        "        break\r\n",
        "    else:\r\n",
        "        print(\"Valid Password\")\r\n",
        "        x=False\r\n",
        "        break\r\n",
        "\r\n",
        "if x:\r\n",
        "    print(\"Not a Valid Password\")\r\n",
        "\r\n"
      ],
      "execution_count": null,
      "outputs": []
    }
  ]
}