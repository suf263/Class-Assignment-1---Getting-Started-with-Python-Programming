{
  "nbformat": 4,
  "nbformat_minor": 0,
  "metadata": {
    "colab": {
      "name": "Copy of List Assignment",
      "provenance": [],
      "collapsed_sections": [],
      "authorship_tag": "ABX9TyO8lSt7dIabsZj0GIF3cyNg",
      "include_colab_link": true
    },
    "kernelspec": {
      "name": "python3",
      "display_name": "Python 3"
    }
  },
  "cells": [
    {
      "cell_type": "markdown",
      "metadata": {
        "id": "view-in-github",
        "colab_type": "text"
      },
      "source": [
        "<a href=\"https://colab.research.google.com/github/suf263/Class-Assignment-1---Getting-Started-with-Python-Programming/blob/master/Copy_of_List_Assignment.ipynb\" target=\"_parent\"><img src=\"https://colab.research.google.com/assets/colab-badge.svg\" alt=\"Open In Colab\"/></a>"
      ]
    },
    {
      "cell_type": "code",
      "metadata": {
        "id": "HUGS4rriGVbr",
        "colab_type": "code",
        "colab": {}
      },
      "source": [
        "list = [1,3,4,6,7,8]\n",
        "search_element = int(input(\"Enter a number to search for:\"))\n",
        "found = False\n",
        "for i in range (len(list)):\n",
        "   if list[i] == search_element:\n",
        "     found = True\n",
        "     print(search_element,\"was found in the list at index\",i)\n",
        "     break\n",
        "if found == False:\n",
        "      print(search_element,\"was not found in the list\")\n",
        "   "
      ],
      "execution_count": null,
      "outputs": []
    }
  ]
}