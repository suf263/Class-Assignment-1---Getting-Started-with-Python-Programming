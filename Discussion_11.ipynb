{
  "nbformat": 4,
  "nbformat_minor": 0,
  "metadata": {
    "colab": {
      "name": "Discussion 11",
      "provenance": [],
      "authorship_tag": "ABX9TyPOL6ZgAyYBXZYFF8BTzGZh",
      "include_colab_link": true
    },
    "kernelspec": {
      "name": "python3",
      "display_name": "Python 3"
    }
  },
  "cells": [
    {
      "cell_type": "markdown",
      "metadata": {
        "id": "view-in-github",
        "colab_type": "text"
      },
      "source": [
        "<a href=\"https://colab.research.google.com/github/suf263/Class-Assignment-1---Getting-Started-with-Python-Programming/blob/master/Discussion_11.ipynb\" target=\"_parent\"><img src=\"https://colab.research.google.com/assets/colab-badge.svg\" alt=\"Open In Colab\"/></a>"
      ]
    },
    {
      "cell_type": "code",
      "metadata": {
        "id": "tO68hSHjOAXG"
      },
      "source": [
        "year = int(input(\"Enter year:\"))\r\n",
        "if year% 4 == 0: \r\n",
        "   if year % 100 == 0: \r\n",
        "     if year% 400 == 0:\r\n",
        "       print(\"{} is a leap year\".format(year))\r\n",
        "     else:\r\n",
        "       print(\"{} is not a leap year\".format(year))       \r\n",
        "   else:\r\n",
        "     print(\"{} is not a leap yr\".format(year))\r\n",
        "else:\r\n",
        "   print(\"{} is not a leap year\".format(year) )    \r\n"
      ],
      "execution_count": null,
      "outputs": []
    },
    {
      "cell_type": "code",
      "metadata": {
        "id": "dEBhYWP5ROgA"
      },
      "source": [
        "x = [[1,2,3],[4,5,6],[7,8,9]]\r\n",
        "y = [[9,8,7],[6,5,4],[3,2,1]]\r\n",
        "r = [[0,0,0],[0,0,0],[0,0,0]]\r\n",
        "for i in range(len(x)):\r\n",
        "  for j in range(len(y)):\r\n",
        "    r[i][j] = x[i][j] + y[i][j]\r\n",
        "for x in r:\r\n",
        "  print(x)    "
      ],
      "execution_count": null,
      "outputs": []
    },
    {
      "cell_type": "code",
      "metadata": {
        "id": "AmqnUNQySZhH"
      },
      "source": [
        "def ispalindrome(str):\r\n",
        "  return str == str[::-1]\r\n",
        "str =  input(\"Enter string:\")\r\n",
        "ans = ispalindrome(str)\r\n",
        "if ans: \r\n",
        "  print(\"Yes {} is a palindrome\".format(str))\r\n",
        "else:\r\n",
        "  print(\"NO\")  \r\n",
        "\r\n"
      ],
      "execution_count": null,
      "outputs": []
    },
    {
      "cell_type": "code",
      "metadata": {
        "id": "ib0bysMsT3FM"
      },
      "source": [
        "mylist = []\r\n",
        "size = int(input(\"Enter no. of elements of the list:\"))\r\n",
        "print(\"Enter elements one by one:\")\r\n",
        "for i in range(size):\r\n",
        "  element = int(input())\r\n",
        "  mylist.append(element)\r\n",
        "large = 0\r\n",
        "for element in mylist:\r\n",
        "  if element>large:\r\n",
        "    large = element\r\n",
        "print(\"The largest number in list is:\",large )      \r\n"
      ],
      "execution_count": null,
      "outputs": []
    },
    {
      "cell_type": "code",
      "metadata": {
        "id": "pkGqzU3tVlH9"
      },
      "source": [
        "l1 = [1,2,3,4]\r\n",
        "l2 = [2,3,4,5]\r\n",
        "for item1 in l1:\r\n",
        "  for item2 in l2:\r\n",
        "    if item1 == item2:\r\n",
        "      print(\"Common item:\")\r\n",
        "      print(item1)"
      ],
      "execution_count": null,
      "outputs": []
    },
    {
      "cell_type": "code",
      "metadata": {
        "id": "llCu7ThcYKk5"
      },
      "source": [
        "import itertools\r\n",
        "list1 = [3,6,9]\r\n",
        "permutations_object = itertools.permutations(list1)\r\n",
        "permutations_list = list(permutations_object)\r\n",
        "print(permutations_list)"
      ],
      "execution_count": null,
      "outputs": []
    }
  ]
}