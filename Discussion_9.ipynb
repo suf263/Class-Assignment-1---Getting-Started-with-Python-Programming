{
  "nbformat": 4,
  "nbformat_minor": 0,
  "metadata": {
    "colab": {
      "name": "Discussion 9",
      "provenance": [],
      "collapsed_sections": [],
      "authorship_tag": "ABX9TyNfrCnfugheGnornvYXjJV/",
      "include_colab_link": true
    },
    "kernelspec": {
      "name": "python3",
      "display_name": "Python 3"
    }
  },
  "cells": [
    {
      "cell_type": "markdown",
      "metadata": {
        "id": "view-in-github",
        "colab_type": "text"
      },
      "source": [
        "<a href=\"https://colab.research.google.com/github/suf263/Class-Assignment-1---Getting-Started-with-Python-Programming/blob/master/Discussion_9.ipynb\" target=\"_parent\"><img src=\"https://colab.research.google.com/assets/colab-badge.svg\" alt=\"Open In Colab\"/></a>"
      ]
    },
    {
      "cell_type": "code",
      "metadata": {
        "colab": {
          "base_uri": "https://localhost:8080/"
        },
        "id": "J-obsxpIFzqk",
        "outputId": "1196e9ba-eb17-4066-8488-546bfa9c94c1"
      },
      "source": [
        "#8\n",
        " \n",
        "def sublist(l):\n",
        "   c=0\n",
        "   for i in l:\n",
        "      if type(i) == list:\n",
        "         c+=1\n",
        "   if c ==0:\n",
        "      return False\n",
        "   return True\n",
        "print(sublist([1,2,[2,7],[3,7,9],[2,45]]))\n",
        "print(sublist([6,7,8,[9,3],67,\"a\"]))"
      ],
      "execution_count": 2,
      "outputs": [
        {
          "output_type": "stream",
          "text": [
            "True\n",
            "True\n"
          ],
          "name": "stdout"
        }
      ]
    },
    {
      "cell_type": "code",
      "metadata": {
        "id": "fPVOKZyD_l6B",
        "colab": {
          "base_uri": "https://localhost:8080/"
        },
        "outputId": "86f98bbb-c4c6-4702-d29e-0f8543ea12fa"
      },
      "source": [
        "#9\n",
        "import collections\n",
        "my_list = [10,10,10,10,20,20,20,20,40,40,50,50,30]\n",
        "print(\"Original List : \",my_list)\n",
        "ctr = collections.Counter(my_list)\n",
        "print(\"Frequency of the elements in the List : \",ctr)"
      ],
      "execution_count": null,
      "outputs": [
        {
          "output_type": "stream",
          "text": [
            "Original List :  [10, 10, 10, 10, 20, 20, 20, 20, 40, 40, 50, 50, 30]\n",
            "Frequency of the elements in the List :  Counter({10: 4, 20: 4, 40: 2, 50: 2, 30: 1})\n"
          ],
          "name": "stdout"
        }
      ]
    },
    {
      "cell_type": "code",
      "metadata": {
        "colab": {
          "base_uri": "https://localhost:8080/"
        },
        "id": "TfFoGjZCDc9C",
        "outputId": "f9e390db-f7fe-427c-d35c-792ac2f0b718"
      },
      "source": [
        " \n",
        "#10\n",
        "def secondlargest(l):\n",
        "       l.sort()\n",
        "       return l[-2]\n",
        "secondlargest([3,1,2,-21,0,24,9])"
      ],
      "execution_count": 3,
      "outputs": [
        {
          "output_type": "execute_result",
          "data": {
            "text/plain": [
              "9"
            ]
          },
          "metadata": {
            "tags": []
          },
          "execution_count": 3
        }
      ]
    },
    {
      "cell_type": "code",
      "metadata": {
        "colab": {
          "base_uri": "https://localhost:8080/"
        },
        "id": "qjamMId9DdFB",
        "outputId": "17db4569-1357-4a4b-e8b1-6d5841834f6c"
      },
      "source": [
        "#11\n",
        "def count_range_in_list(li, min, max):\n",
        "    ctr = 0\n",
        "    for x in li:\n",
        "        if min <= x <= max:\n",
        "            ctr += 1\n",
        "    return ctr\n",
        " \n",
        "list1 = [10,20,30,40,40,40,70,80,99]\n",
        "print(count_range_in_list(list1, 40, 100))\n",
        " \n",
        "list2 = ['a','b','c','d','e','f']\n",
        "print(count_range_in_list(list2, 'a', 'e'))"
      ],
      "execution_count": 4,
      "outputs": [
        {
          "output_type": "stream",
          "text": [
            "6\n",
            "5\n"
          ],
          "name": "stdout"
        }
      ]
    },
    {
      "cell_type": "code",
      "metadata": {
        "colab": {
          "base_uri": "https://localhost:8080/"
        },
        "id": "7Xlwy6QiDdJ0",
        "outputId": "351fa8fd-fe5f-4710-c0cb-64ac9abfd44f"
      },
      "source": [
        " \n",
        "#12\n",
        "def secondsmallest(l):\n",
        "       l.sort()\n",
        "       return l[1]\n",
        "secondsmallest([4,55,3,1,88,90,12])"
      ],
      "execution_count": 5,
      "outputs": [
        {
          "output_type": "execute_result",
          "data": {
            "text/plain": [
              "3"
            ]
          },
          "metadata": {
            "tags": []
          },
          "execution_count": 5
        }
      ]
    }
  ]
}