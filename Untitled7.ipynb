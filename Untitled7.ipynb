{
  "nbformat": 4,
  "nbformat_minor": 0,
  "metadata": {
    "colab": {
      "name": "Untitled7.ipynb",
      "provenance": [],
      "authorship_tag": "ABX9TyMYPK7ch9mR+01nv3Kh85iz",
      "include_colab_link": true
    },
    "kernelspec": {
      "name": "python3",
      "display_name": "Python 3"
    }
  },
  "cells": [
    {
      "cell_type": "markdown",
      "metadata": {
        "id": "view-in-github",
        "colab_type": "text"
      },
      "source": [
        "<a href=\"https://colab.research.google.com/github/suf263/Class-Assignment-1---Getting-Started-with-Python-Programming/blob/master/Untitled7.ipynb\" target=\"_parent\"><img src=\"https://colab.research.google.com/assets/colab-badge.svg\" alt=\"Open In Colab\"/></a>"
      ]
    },
    {
      "cell_type": "code",
      "metadata": {
        "id": "RDBmoG3XEq_h",
        "colab_type": "code",
        "colab": {
          "base_uri": "https://localhost:8080/",
          "height": 68
        },
        "outputId": "0f0199ad-fe85-4dc3-fb85-df76e09a06f5"
      },
      "source": [
        "name=input(\"Enter name:\")\n",
        "age=int(input(\"Enter age:\"))\n",
        "print(\"Your name is {} and your age is {}\".format(name,age))"
      ],
      "execution_count": 1,
      "outputs": [
        {
          "output_type": "stream",
          "text": [
            "Enter name:sufinashahulhameed\n",
            "Enter age:19\n",
            "Your name is sufinashahulhameed and your age is 19\n"
          ],
          "name": "stdout"
        }
      ]
    },
    {
      "cell_type": "code",
      "metadata": {
        "id": "YJ0DMMG5GhDd",
        "colab_type": "code",
        "colab": {
          "base_uri": "https://localhost:8080/",
          "height": 119
        },
        "outputId": "1d4f7bd0-fd8f-4d96-fc28-af8ba9713373"
      },
      "source": [
        "name = input(\"Enter your name:\")\n",
        "address = input(\"Enter your address:\")\n",
        "tel_num = int(input(\"Enter telephone number:\"))\n",
        "print(name)\n",
        "print(address)\n",
        "print(tel_num)"
      ],
      "execution_count": 2,
      "outputs": [
        {
          "output_type": "stream",
          "text": [
            "Enter your name:sufina shahul hameed\n",
            "Enter your address:student of Lbsitw\n",
            "Enter telephone number:7306798812\n",
            "sufina shahul hameed\n",
            "student of Lbsitw\n",
            "7306798812\n"
          ],
          "name": "stdout"
        }
      ]
    },
    {
      "cell_type": "code",
      "metadata": {
        "id": "51xlEcqZHW6r",
        "colab_type": "code",
        "colab": {
          "base_uri": "https://localhost:8080/",
          "height": 34
        },
        "outputId": "bab3e994-3c0e-439d-fbaa-00449f5ef0a9"
      },
      "source": [
        ">>> print(\"Your name is\",name)"
      ],
      "execution_count": 3,
      "outputs": [
        {
          "output_type": "stream",
          "text": [
            "Your name is sufina shahul hameed\n"
          ],
          "name": "stdout"
        }
      ]
    },
    {
      "cell_type": "code",
      "metadata": {
        "id": "GLHeEpJdHiHB",
        "colab_type": "code",
        "colab": {
          "base_uri": "https://localhost:8080/",
          "height": 34
        },
        "outputId": "e76c3669-d838-44c1-c35c-7174ee2cf967"
      },
      "source": [
        ">>> name = 28\n",
        "name"
      ],
      "execution_count": 4,
      "outputs": [
        {
          "output_type": "execute_result",
          "data": {
            "text/plain": [
              "28"
            ]
          },
          "metadata": {
            "tags": []
          },
          "execution_count": 4
        }
      ]
    },
    {
      "cell_type": "code",
      "metadata": {
        "id": "bEdn0A5AHpIf",
        "colab_type": "code",
        "colab": {
          "base_uri": "https://localhost:8080/",
          "height": 51
        },
        "outputId": "2a3e8aa2-b284-4eb2-aca9-ff1c6fdd521f"
      },
      "source": [
        "radius = float(input(\"Enter any radius:\"))\n",
        "areaofcircle = 3.14*radius**2\n",
        "print(\"The area of circle is\",areaofcircle)"
      ],
      "execution_count": 6,
      "outputs": [
        {
          "output_type": "stream",
          "text": [
            "Enter any radius:5\n",
            "The area of circle is 78.5\n"
          ],
          "name": "stdout"
        }
      ]
    },
    {
      "cell_type": "code",
      "metadata": {
        "id": "LyGDS70_ILlU",
        "colab_type": "code",
        "colab": {
          "base_uri": "https://localhost:8080/",
          "height": 34
        },
        "outputId": "590798be-560b-4f84-89a6-e9c7d4a5bd1b"
      },
      "source": [
        ">>> statement = input(\"python is really cool!\")"
      ],
      "execution_count": 9,
      "outputs": [
        {
          "output_type": "stream",
          "text": [
            "python is really cool!sufina\n"
          ],
          "name": "stdout"
        }
      ]
    },
    {
      "cell_type": "code",
      "metadata": {
        "id": "wjOCTa4OI1sV",
        "colab_type": "code",
        "colab": {
          "base_uri": "https://localhost:8080/",
          "height": 34
        },
        "outputId": "733e82f3-3893-4f55-a669-696721b67f6b"
      },
      "source": [
        ">>> n = int(input(\"enter n\"))"
      ],
      "execution_count": 18,
      "outputs": [
        {
          "output_type": "stream",
          "text": [
            "enter n 29\n"
          ],
          "name": "stdout"
        }
      ]
    },
    {
      "cell_type": "code",
      "metadata": {
        "id": "1SaRxmncJR1_",
        "colab_type": "code",
        "colab": {
          "base_uri": "https://localhost:8080/",
          "height": 34
        },
        "outputId": "68c264fd-b2c7-4827-9c26-5d2769f6875e"
      },
      "source": [
        "  >>> n + 1\n"
      ],
      "execution_count": 19,
      "outputs": [
        {
          "output_type": "execute_result",
          "data": {
            "text/plain": [
              "30"
            ]
          },
          "metadata": {
            "tags": []
          },
          "execution_count": 19
        }
      ]
    }
  ]
}