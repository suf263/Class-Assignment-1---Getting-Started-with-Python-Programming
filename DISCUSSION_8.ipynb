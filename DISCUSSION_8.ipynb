{
  "nbformat": 4,
  "nbformat_minor": 0,
  "metadata": {
    "colab": {
      "name": "DISCUSSION 8",
      "provenance": [],
      "authorship_tag": "ABX9TyNzcv5mQPpUJ2BNQ06ZUAtC",
      "include_colab_link": true
    },
    "kernelspec": {
      "name": "python3",
      "display_name": "Python 3"
    }
  },
  "cells": [
    {
      "cell_type": "markdown",
      "metadata": {
        "id": "view-in-github",
        "colab_type": "text"
      },
      "source": [
        "<a href=\"https://colab.research.google.com/github/suf263/Class-Assignment-1---Getting-Started-with-Python-Programming/blob/master/DISCUSSION_8.ipynb\" target=\"_parent\"><img src=\"https://colab.research.google.com/assets/colab-badge.svg\" alt=\"Open In Colab\"/></a>"
      ]
    },
    {
      "cell_type": "markdown",
      "metadata": {
        "id": "I6cx4D8hkw6k"
      },
      "source": [
        "1."
      ]
    },
    {
      "cell_type": "code",
      "metadata": {
        "colab": {
          "base_uri": "https://localhost:8080/"
        },
        "id": "Msy37PlDgUIh",
        "outputId": "448a0e2e-1863-4278-f8b2-ccd8ba7c2575"
      },
      "source": [
        "add = lambda x:x+15\r\n",
        "add(5)"
      ],
      "execution_count": 1,
      "outputs": [
        {
          "output_type": "execute_result",
          "data": {
            "text/plain": [
              "20"
            ]
          },
          "metadata": {
            "tags": []
          },
          "execution_count": 1
        }
      ]
    },
    {
      "cell_type": "code",
      "metadata": {
        "colab": {
          "base_uri": "https://localhost:8080/"
        },
        "id": "ENa1HxTegt3Y",
        "outputId": "37d78794-74ee-48fc-8517-d286955c6280"
      },
      "source": [
        "add = lambda x:x+15\r\n",
        "add(5)"
      ],
      "execution_count": 2,
      "outputs": [
        {
          "output_type": "execute_result",
          "data": {
            "text/plain": [
              "20"
            ]
          },
          "metadata": {
            "tags": []
          },
          "execution_count": 2
        }
      ]
    },
    {
      "cell_type": "code",
      "metadata": {
        "colab": {
          "base_uri": "https://localhost:8080/"
        },
        "id": "emgbZBPZg2Hm",
        "outputId": "f7156528-5d87-4587-f905-3f1dac6c439d"
      },
      "source": [
        "multiply = lambda x,y:x*y\r\n",
        "multiply(3,4)"
      ],
      "execution_count": 4,
      "outputs": [
        {
          "output_type": "execute_result",
          "data": {
            "text/plain": [
              "12"
            ]
          },
          "metadata": {
            "tags": []
          },
          "execution_count": 4
        }
      ]
    },
    {
      "cell_type": "markdown",
      "metadata": {
        "id": "-hKEzRyaw7qD"
      },
      "source": [
        "3."
      ]
    },
    {
      "cell_type": "code",
      "metadata": {
        "colab": {
          "base_uri": "https://localhost:8080/"
        },
        "id": "gTm3pX3ow7MM",
        "outputId": "0e3a247a-7ab6-4447-b27d-815c1667eec1"
      },
      "source": [
        "num = int(input('Enter the number of elements: '))\r\n",
        "total_sum = 0\r\n",
        "for n in range(num):\r\n",
        "    numbers = float(input('Enter number : '))\r\n",
        "    total_sum += numbers\r\n",
        "avg = total_sum/num\r\n",
        "print('Average of ', num, ' numbers is :', avg)\r\n"
      ],
      "execution_count": 42,
      "outputs": [
        {
          "output_type": "stream",
          "text": [
            "Enter the number of elements: 2\n",
            "Enter number : 1\n",
            "Enter number : 2\n",
            "Average of  2  numbers is : 1.5\n"
          ],
          "name": "stdout"
        }
      ]
    },
    {
      "cell_type": "markdown",
      "metadata": {
        "id": "oLNJ8-lnxG-i"
      },
      "source": [
        "4.\r\n"
      ]
    },
    {
      "cell_type": "code",
      "metadata": {
        "colab": {
          "base_uri": "https://localhost:8080/"
        },
        "id": "I-iKCmH7xMs3",
        "outputId": "19f14a0e-36e7-483f-c5ae-bfee2e6001aa"
      },
      "source": [
        "mylist = ['p','q']\r\n",
        "n = int(input(\"Enter the upper range:\"))\r\n",
        "for x in mylist:\r\n",
        "  for y in range(1,n+1):\r\n",
        "      newlist = [ '{}{}'.format(x,y)]\r\n",
        "print(newlist)  \r\n",
        "\r\n"
      ],
      "execution_count": 43,
      "outputs": [
        {
          "output_type": "stream",
          "text": [
            "Enter the upper range:4\n",
            "['q4']\n"
          ],
          "name": "stdout"
        }
      ]
    },
    {
      "cell_type": "markdown",
      "metadata": {
        "id": "VS9rPVzTxdCJ"
      },
      "source": [
        "5.\r\n"
      ]
    },
    {
      "cell_type": "code",
      "metadata": {
        "id": "GIVCO15QhEMQ"
      },
      "source": [
        "def fib(n):\r\n",
        "  if n<=1:\r\n",
        "    return n\r\n",
        "  else:\r\n",
        "    return (fib(n-1)  +fib(n-2))\r\n"
      ],
      "execution_count": 6,
      "outputs": []
    },
    {
      "cell_type": "code",
      "metadata": {
        "colab": {
          "base_uri": "https://localhost:8080/"
        },
        "id": "C3yYETXZiVIH",
        "outputId": "b7c2b18d-a0c7-4636-9856-6174a171a4fe"
      },
      "source": [
        "fib(5)"
      ],
      "execution_count": 7,
      "outputs": [
        {
          "output_type": "execute_result",
          "data": {
            "text/plain": [
              "5"
            ]
          },
          "metadata": {
            "tags": []
          },
          "execution_count": 7
        }
      ]
    },
    {
      "cell_type": "code",
      "metadata": {
        "colab": {
          "base_uri": "https://localhost:8080/"
        },
        "id": "9Cn7QmuuiYQm",
        "outputId": "9f220ee6-8e98-49ac-acbc-f06ceb1a96aa"
      },
      "source": [
        "fib(10)"
      ],
      "execution_count": 8,
      "outputs": [
        {
          "output_type": "execute_result",
          "data": {
            "text/plain": [
              "55"
            ]
          },
          "metadata": {
            "tags": []
          },
          "execution_count": 8
        }
      ]
    },
    {
      "cell_type": "markdown",
      "metadata": {
        "id": "0PGxMl2Rxq6Q"
      },
      "source": [
        "6."
      ]
    },
    {
      "cell_type": "code",
      "metadata": {
        "colab": {
          "base_uri": "https://localhost:8080/"
        },
        "id": "kgJBPE7pxsfw",
        "outputId": "ab8818a8-14d3-4def-bffa-8c99e3d3ec11"
      },
      "source": [
        "def sum(lower,upper):\r\n",
        "  if lower >upper:\r\n",
        "    return 0\r\n",
        "  else:\r\n",
        "    return lower+sum(lower+1,upper)  \r\n",
        "sum(0,10)\r\n"
      ],
      "execution_count": 44,
      "outputs": [
        {
          "output_type": "execute_result",
          "data": {
            "text/plain": [
              "55"
            ]
          },
          "metadata": {
            "tags": []
          },
          "execution_count": 44
        }
      ]
    },
    {
      "cell_type": "markdown",
      "metadata": {
        "id": "rI3puTQnkgLr"
      },
      "source": [
        "7."
      ]
    },
    {
      "cell_type": "code",
      "metadata": {
        "colab": {
          "base_uri": "https://localhost:8080/"
        },
        "id": "xzPLWmTUiiL_",
        "outputId": "240467c0-22d4-4ca4-dcb4-f21257b702fb"
      },
      "source": [
        "def factorial(x):\r\n",
        "  if  x == 1:\r\n",
        "    return x\r\n",
        "  else:\r\n",
        "    return (x*factorial(x - 1))  \r\n",
        "factorial(10)    "
      ],
      "execution_count": 9,
      "outputs": [
        {
          "output_type": "execute_result",
          "data": {
            "text/plain": [
              "3628800"
            ]
          },
          "metadata": {
            "tags": []
          },
          "execution_count": 9
        }
      ]
    },
    {
      "cell_type": "code",
      "metadata": {
        "colab": {
          "base_uri": "https://localhost:8080/"
        },
        "id": "Iiv4So34ihkL",
        "outputId": "1a17c94d-deed-44f4-ff82-fde7bbc1c5ca"
      },
      "source": [
        "factorial(9)"
      ],
      "execution_count": 10,
      "outputs": [
        {
          "output_type": "execute_result",
          "data": {
            "text/plain": [
              "362880"
            ]
          },
          "metadata": {
            "tags": []
          },
          "execution_count": 10
        }
      ]
    },
    {
      "cell_type": "code",
      "metadata": {
        "colab": {
          "base_uri": "https://localhost:8080/"
        },
        "id": "PdlKVVi8icsn",
        "outputId": "2e13250c-958a-48e5-ae98-6adeea576e75"
      },
      "source": [
        "factorial(8)"
      ],
      "execution_count": 11,
      "outputs": [
        {
          "output_type": "execute_result",
          "data": {
            "text/plain": [
              "40320"
            ]
          },
          "metadata": {
            "tags": []
          },
          "execution_count": 11
        }
      ]
    }
  ]
}