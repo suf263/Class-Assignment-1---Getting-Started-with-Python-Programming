{
  "nbformat": 4,
  "nbformat_minor": 0,
  "metadata": {
    "colab": {
      "name": "Assignment.ipynb",
      "provenance": [],
      "authorship_tag": "ABX9TyM3KKivc3fyiJ6EEnIez6EK",
      "include_colab_link": true
    },
    "kernelspec": {
      "name": "python3",
      "display_name": "Python 3"
    }
  },
  "cells": [
    {
      "cell_type": "markdown",
      "metadata": {
        "id": "view-in-github",
        "colab_type": "text"
      },
      "source": [
        "<a href=\"https://colab.research.google.com/github/suf263/Class-Assignment-1---Getting-Started-with-Python-Programming/blob/master/Assignment.ipynb\" target=\"_parent\"><img src=\"https://colab.research.google.com/assets/colab-badge.svg\" alt=\"Open In Colab\"/></a>"
      ]
    },
    {
      "cell_type": "markdown",
      "metadata": {
        "id": "oHmIEB82hU0Z"
      },
      "source": [
        "Answer for Question 1:"
      ]
    },
    {
      "cell_type": "code",
      "metadata": {
        "id": "xjaIVR1cJH-e",
        "outputId": "7e51ed9b-f56a-46c6-fb2c-3a4a9f6f6b37",
        "colab": {
          "base_uri": "https://localhost:8080/"
        }
      },
      "source": [
        " import pickle\n",
        " f =open(\"n.txt\",\"w\")\n",
        " n = [8,3,9,1,2]\n",
        " s = pickle.dumps(n)\n",
        " f.close()\n",
        " f =open(\"n.txt\",\"r\")\n",
        " t = pickle.loads(s)\n",
        " t.sort()\n",
        " cp =[]\n",
        " for a in t:\n",
        "      if a not in cp: \n",
        "        cp.append(a)\n",
        " print(cp)"
      ],
      "execution_count": null,
      "outputs": [
        {
          "output_type": "stream",
          "text": [
            "[1, 2, 3, 8, 9]\n"
          ],
          "name": "stdout"
        }
      ]
    },
    {
      "cell_type": "code",
      "metadata": {
        "id": "DMu2ue2qPneD",
        "outputId": "9d8944de-eb31-4a4c-9d8e-27155115ae36",
        "colab": {
          "base_uri": "https://localhost:8080/"
        }
      },
      "source": [
        " str = \",\".join(str(i) for i in cp)\n",
        " f.close()\n",
        " f =open(\"n.txt\",\"w\")\n",
        " f.write(str)"
      ],
      "execution_count": null,
      "outputs": [
        {
          "output_type": "execute_result",
          "data": {
            "text/plain": [
              "9"
            ]
          },
          "metadata": {
            "tags": []
          },
          "execution_count": 3
        }
      ]
    },
    {
      "cell_type": "code",
      "metadata": {
        "id": "TPMe3I09VIfy"
      },
      "source": [
        "f.close()"
      ],
      "execution_count": null,
      "outputs": []
    },
    {
      "cell_type": "code",
      "metadata": {
        "id": "as0gzb_ghwpP"
      },
      "source": [
        "def copyfile(oldfile,newfile):\n",
        "  f1 = open(oldfile,\"r\")\n",
        "  f2 = open(newfile,\"w\")\n",
        "  while True:\n",
        "    text=f1.read(50)\n",
        "    if text==\"\":\n",
        "      break\n",
        "    f2.write(text) \n",
        "  f1.close\n",
        "  f2.close\n",
        "  return\n",
        "copyfile(\"n.txt\",\"t.txt\")\n",
        "newfile=open(\"t.txt\",\"r\")   \n",
        "print(newfile.read())"
      ],
      "execution_count": null,
      "outputs": []
    },
    {
      "cell_type": "markdown",
      "metadata": {
        "id": "s7RWWUjehIBh"
      },
      "source": [
        "   Answer for Question 2:"
      ]
    },
    {
      "cell_type": "code",
      "metadata": {
        "id": "RS6p4UUbVO-5",
        "outputId": "4e17bd8c-8540-4606-88e7-9c56c3401093",
        "colab": {
          "base_uri": "https://localhost:8080/"
        }
      },
      "source": [
        " file1 = open(\"file1.txt\",\"w\")\n",
        " file1.write(\"line1 \\n\\n line2\")\n"
      ],
      "execution_count": null,
      "outputs": [
        {
          "output_type": "execute_result",
          "data": {
            "text/plain": [
              "14"
            ]
          },
          "metadata": {
            "tags": []
          },
          "execution_count": 4
        }
      ]
    },
    {
      "cell_type": "code",
      "metadata": {
        "id": "oVoLB0L7gSXu",
        "outputId": "35f2703c-5543-4e63-831f-b2456fa49258",
        "colab": {
          "base_uri": "https://localhost:8080/"
        }
      },
      "source": [
        " file1.close()\n",
        " file1 = open(\"file1.txt\",\"r\")\n",
        " str = file1.read()\n",
        " str1 = str.replace(\"\\n\\n\",\"\")\n",
        " print(str)\n"
      ],
      "execution_count": null,
      "outputs": [
        {
          "output_type": "stream",
          "text": [
            "line1 \n",
            "\n",
            " line2\n"
          ],
          "name": "stdout"
        }
      ]
    },
    {
      "cell_type": "code",
      "metadata": {
        "id": "0J5dPd4VgcKo",
        "outputId": "515c6728-e5f5-421b-9dba-5d48606d97cd",
        "colab": {
          "base_uri": "https://localhost:8080/"
        }
      },
      "source": [
        "\n",
        "print(str1)\n"
      ],
      "execution_count": null,
      "outputs": [
        {
          "output_type": "stream",
          "text": [
            "line1  line2\n"
          ],
          "name": "stdout"
        }
      ]
    },
    {
      "cell_type": "code",
      "metadata": {
        "id": "Jkm78umegkfQ",
        "outputId": "2c93f74e-719f-4aad-de5c-665f88732b26",
        "colab": {
          "base_uri": "https://localhost:8080/"
        }
      },
      "source": [
        " file1.close()\n",
        " file1 = open(\"file1.txt\",\"w\")\n",
        " file1.write(str1)\n"
      ],
      "execution_count": null,
      "outputs": [
        {
          "output_type": "execute_result",
          "data": {
            "text/plain": [
              "12"
            ]
          },
          "metadata": {
            "tags": []
          },
          "execution_count": 7
        }
      ]
    },
    {
      "cell_type": "code",
      "metadata": {
        "id": "Ez2i0YRngrnP",
        "outputId": "12f8fce6-cacd-41cf-b32c-c656b86e4bc9",
        "colab": {
          "base_uri": "https://localhost:8080/"
        }
      },
      "source": [
        " file1.close()\n",
        "def copyFile(oldFile, newFile):\n",
        "  f1 = open(oldFile, \"r\")\n",
        "  f2 = open(newFile, \"w\")\n",
        "  while True:\n",
        "        text = f1.read(50)\n",
        "        if text == \"\":\n",
        "          break\n",
        "        f2.write(text)\n",
        "  f1.close()\n",
        "  f2.close()\n",
        "  return\n",
        "\n",
        "copyFile(\"file1.txt\",\"file2.txt\")\n",
        "\n",
        " file2 = open(\"file2.txt\",\"r\")\n",
        " print(file2.read())\n"
      ],
      "execution_count": null,
      "outputs": [
        {
          "output_type": "stream",
          "text": [
            "line1  line2\n"
          ],
          "name": "stdout"
        }
      ]
    }
  ]
}